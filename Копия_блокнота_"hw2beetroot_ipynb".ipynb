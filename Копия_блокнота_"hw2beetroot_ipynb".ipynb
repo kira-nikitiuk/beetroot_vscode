{
  "nbformat": 4,
  "nbformat_minor": 0,
  "metadata": {
    "colab": {
      "provenance": [],
      "authorship_tag": "ABX9TyOb4O8wTndNTRAAUHgutA9S",
      "include_colab_link": true
    },
    "kernelspec": {
      "name": "python3",
      "display_name": "Python 3"
    },
    "language_info": {
      "name": "python"
    }
  },
  "cells": [
    {
      "cell_type": "markdown",
      "metadata": {
        "id": "view-in-github",
        "colab_type": "text"
      },
      "source": [
        "<a href=\"https://colab.research.google.com/github/kira-nikitiuk/beetroot_vscode/blob/main/%D0%9A%D0%BE%D0%BF%D0%B8%D1%8F_%D0%B1%D0%BB%D0%BE%D0%BA%D0%BD%D0%BE%D1%82%D0%B0_%22hw2beetroot_ipynb%22.ipynb\" target=\"_parent\"><img src=\"https://colab.research.google.com/assets/colab-badge.svg\" alt=\"Open In Colab\"/></a>"
      ]
    },
    {
      "cell_type": "code",
      "execution_count": null,
      "metadata": {
        "colab": {
          "base_uri": "https://localhost:8080/"
        },
        "id": "sqqwPNZSsudQ",
        "outputId": "59a08bb7-3af0-42d6-cd83-b1646baa148f"
      },
      "outputs": [
        {
          "output_type": "stream",
          "name": "stdout",
          "text": [
            "your name: Kira\n",
            "today is: Friday\n",
            "Good day Kira! Friday is a perfect day to learn some python.\n"
          ]
        }
      ],
      "source": [
        "# task 1\n",
        "#Make a program that has your name and the current day of the week stored as separate variables and then prints a message like this:\n",
        "\n",
        "#     \"Good day <name>! <day> is a perfect day to learn some python.\"\n",
        "#Note that  <name> and <day> are predefined variables in source code.\n",
        "\n",
        "#An additional bonus will be to use different string formatting methods for constructing result string.\n",
        "\n",
        "name = input(\"your name: \") #name = \"Kira\"\n",
        "day = input(\"today is: \")  #day = Friday\n",
        "print(f\"Good day {name}! {day} is a perfect day to learn some python.\")"
      ]
    },
    {
      "cell_type": "code",
      "source": [
        "# task 2\n",
        "# Save your first and last name as separate variables, then use string concatenation to add them together with a white space in between and print a greeting.\n",
        "name = \"Kira \"\n",
        "surname = \"Nikitiuk\"\n",
        "full_name = name + surname\n",
        "print(f\"Hi, {full_name}! Have a nice day \")"
      ],
      "metadata": {
        "colab": {
          "base_uri": "https://localhost:8080/"
        },
        "id": "HZ7nMftlvTbR",
        "outputId": "b0c29ae6-9255-409c-8d5d-1943e67d5eb0"
      },
      "execution_count": null,
      "outputs": [
        {
          "output_type": "stream",
          "name": "stdout",
          "text": [
            "Hi, Kira Nikitiuk! Have a nice day \n"
          ]
        }
      ]
    },
    {
      "cell_type": "code",
      "source": [
        "# task 3\n",
        "#Make a program with 2 numbers saved in separate variables a and b, then print the result for each of the following:\n",
        "'''\n",
        "Addition\n",
        "Subtraction\n",
        "Division\n",
        "Multiplication\n",
        "Exponent (Power)\n",
        "Modulus\n",
        "Floor division'''\n",
        "\n",
        "a = int(input(\"print first number:\"))\n",
        "b = int(input(\"print second number:\"))\n",
        "print(f\"{a} + {b} = \", a+b)\n",
        "print(f\"{a} - {b} = \", a-b)\n",
        "print(f\"{a} * {b} = \", a*b)\n",
        "print(f\"{a} / {b} = \", a/b)\n",
        "print(f\"{a} % {b} = \", a%b, f\"залишок від ділення\")\n",
        "print(f\"{a} // {b} = \", a//b, f\"цілочисельне ділення\")\n",
        "print(f\"{a} ^ {b} = \", a**b, f\"піднесення до степеня варіант 1\") # піднесення до степеня варіант 1\n",
        "print(f\"{a} ^ {b} = \", pow(a,b), f\"піднесення до степеня варіант 2\") # піднесення до степеня варіант 2\n",
        "print(f\"|{b}| = \", abs(b))\n",
        "print(f\"|{a}| = \", abs(a))"
      ],
      "metadata": {
        "colab": {
          "base_uri": "https://localhost:8080/"
        },
        "id": "WJSBLm2XwZNi",
        "outputId": "d63b61ff-e3b9-4181-df64-f1b97f2d7eda"
      },
      "execution_count": null,
      "outputs": [
        {
          "output_type": "stream",
          "name": "stdout",
          "text": [
            "print first number:3\n",
            "print second number:2\n",
            "3 + 2 =  5\n",
            "3 - 2 =  1\n",
            "3 * 2 =  6\n",
            "3 / 2 =  1.5\n",
            "3 % 2 =  1 залишок від ділення\n",
            "3 // 2 =  1 цілочисельне ділення\n",
            "3 ^ 2 =  9 піднесення до степеня варіант 1\n",
            "3 ^ 2 =  9 піднесення до степеня варіант 2\n",
            "|2| =  2\n",
            "|3| =  3\n"
          ]
        }
      ]
    }
  ]
}