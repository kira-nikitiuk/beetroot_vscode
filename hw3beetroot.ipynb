{
  "nbformat": 4,
  "nbformat_minor": 0,
  "metadata": {
    "colab": {
      "provenance": [],
      "authorship_tag": "ABX9TyNoIU2FU+KtvFzYJDWF9zdv",
      "include_colab_link": true
    },
    "kernelspec": {
      "name": "python3",
      "display_name": "Python 3"
    },
    "language_info": {
      "name": "python"
    }
  },
  "cells": [
    {
      "cell_type": "markdown",
      "metadata": {
        "id": "view-in-github",
        "colab_type": "text"
      },
      "source": [
        "<a href=\"https://colab.research.google.com/github/kira-nikitiuk/beetroot_vscode/blob/main/hw3beetroot.ipynb\" target=\"_parent\"><img src=\"https://colab.research.google.com/assets/colab-badge.svg\" alt=\"Open In Colab\"/></a>"
      ]
    },
    {
      "cell_type": "code",
      "execution_count": 15,
      "metadata": {
        "colab": {
          "base_uri": "https://localhost:8080/"
        },
        "id": "fOkfUpze3Z1M",
        "outputId": "50d2ee36-0474-4359-a094-c6dba0463bbb"
      },
      "outputs": [
        {
          "output_type": "stream",
          "name": "stdout",
          "text": [
            "your string: f\n",
            " \n"
          ]
        }
      ],
      "source": [
        "# task 1\n",
        "# Write a Python program to get a string made of the first 2 and the last 2 chars from a given string. If the string length is less than 2, return instead of the empty string.\n",
        "string1 = input(\"your string: \")\n",
        "if len(string1) <= 1:\n",
        "  print(\" \")\n",
        "elif len(string1) == 2:\n",
        "  print(string1*2)\n",
        "else:\n",
        "  first_two_chars = string1[:2]\n",
        "  last_two_chars = string1[-2:]\n",
        "  print(first_two_chars + last_two_chars)\n",
        "\n",
        ""
      ]
    },
    {
      "cell_type": "code",
      "source": [
        "# task 2\n",
        "# Make a program that checks if a string is in the right format for a phone number. The program should check that the string contains only numerical characters and is only 10 characters long. Print a suitable message depending on the outcome of the string evaluation.\n",
        "phone_number= input(\"your phone number: \")\n",
        "if not phone_number.isdigit():\n",
        "  print(\"it is not a phone number, phone number include only numerical characters\")\n",
        "elif len(phone_number) != 10:\n",
        "  print(\"it is not a phone number, phone number must include 10 characters long\")\n",
        "else:\n",
        "  print(\"it is the correct phone number\")"
      ],
      "metadata": {
        "colab": {
          "base_uri": "https://localhost:8080/"
        },
        "id": "SDzQoy2_8wsx",
        "outputId": "ca9311a0-abd8-43f6-c95b-3325e47d43c9"
      },
      "execution_count": 51,
      "outputs": [
        {
          "output_type": "stream",
          "name": "stdout",
          "text": [
            "your phone number: ffffffffff\n",
            "it is not a phone number, phone number include only numerical characters\n"
          ]
        }
      ]
    },
    {
      "cell_type": "code",
      "source": [
        "# task 2 (варіант 2)\n",
        "phone_number= input(\"your phone number(+380__): \")\n",
        "if not phone_number.isdigit():\n",
        "  print(\"it is not a phone number, phone number include only numerical characters\")\n",
        "elif len(phone_number) != 9:\n",
        "  print(\"it is not a phone number, phone number must include 10 characters long\")\n",
        "else:\n",
        "  full_phone_number = \"+380\" + phone_number\n",
        "  print(\"your phone number is correct:\", full_phone_number)\n"
      ],
      "metadata": {
        "colab": {
          "base_uri": "https://localhost:8080/"
        },
        "id": "Ru3qmSODDWKy",
        "outputId": "e29f6ec1-695c-44b5-9000-175d26d920b5"
      },
      "execution_count": 108,
      "outputs": [
        {
          "output_type": "stream",
          "name": "stdout",
          "text": [
            "your phone number(+380__): 962677424\n",
            "your phone number is correct: +380962677424\n"
          ]
        }
      ]
    },
    {
      "cell_type": "code",
      "source": [
        "# task 3 (складний варіант)\n",
        "# Write a program that asks the answer for a mathematical expression, checks whether the user is right or wrong, and then responds with a message accordingly.\n",
        "import random\n",
        "\n",
        "def randomaizer(a,b):\n",
        "\n",
        "  if a<75 and b>20:\n",
        "    print(f\"{a}-{b}=\")\n",
        "    expected_result = a - b\n",
        "  elif a<75 and b<20:\n",
        "    print(f\"{a}+{b}=\")\n",
        "    expected_result = a + b\n",
        "  elif a>=75 and b<20:\n",
        "    print(f\"{a}*{b}=\")\n",
        "    expected_result = a * b\n",
        "  else:\n",
        "    print(f\"{a}/{b}=\")\n",
        "    expected_result = a / b\n",
        "\n",
        "  return expected_result\n",
        "\n",
        "a = random.randrange(50,100)\n",
        "b = random.randrange(0,49)\n",
        "expected_result = randomaizer(a,b)\n",
        "answer = input(\"your answer: \")\n",
        "\n",
        "\n",
        "if answer.isdigit():\n",
        "  answer = float(answer)\n",
        "  if answer == expected_result:\n",
        "    print(\"WELL DONE!\")\n",
        "  else:\n",
        "    print(\"you are bad at math...\")\n",
        "else:\n",
        "  print(\"error: answer is not a number!!!\")"
      ],
      "metadata": {
        "colab": {
          "base_uri": "https://localhost:8080/"
        },
        "id": "6S6gvqhn9jI9",
        "outputId": "e734995c-91a4-4ecb-945c-7c58b55f06b9"
      },
      "execution_count": 99,
      "outputs": [
        {
          "output_type": "stream",
          "name": "stdout",
          "text": [
            "65+13=\n",
            "your answer: 78\n",
            "WELL DONE!\n"
          ]
        }
      ]
    },
    {
      "cell_type": "code",
      "source": [
        "# task 3 (нормальний варіант)\n",
        "mathematical_expression = \"6+7\"\n",
        "answer = 13\n",
        "\n",
        "print(mathematical_expression)\n",
        "your_answer = int(input(\"your answer: \"))\n",
        "\n",
        "if your_answer != answer:\n",
        "  print(\"you are bad at math...\")\n",
        "else:\n",
        "  print(\"WELL DONE!\")\n"
      ],
      "metadata": {
        "colab": {
          "base_uri": "https://localhost:8080/"
        },
        "id": "HK0z0Ok6WhYA",
        "outputId": "15e45d69-cf7d-46b9-9637-4e00ff9383ba"
      },
      "execution_count": 107,
      "outputs": [
        {
          "output_type": "stream",
          "name": "stdout",
          "text": [
            "6+7\n",
            "your answer: 34\n",
            "you are bad at math...\n"
          ]
        }
      ]
    },
    {
      "cell_type": "code",
      "source": [
        "# task 4\n",
        "#Write a program that has a variable with your name stored (in lowercase) and then asks for your name as input. The program should check if your input is equal to the stored name even if the given name has another case, e.g., if your input is “Anton” and the stored name is “anton”, it should return True.\n",
        "my_name = \"kira\"\n",
        "name = input(\"name: \")\n",
        "if my_name == name.lower():\n",
        "  print(True)\n",
        "else:\n",
        "  print(False)\n"
      ],
      "metadata": {
        "colab": {
          "base_uri": "https://localhost:8080/"
        },
        "id": "ukx6qOj-YEHz",
        "outputId": "f9ff54d1-ea3c-4692-ab6e-96e71e6f75f4"
      },
      "execution_count": 110,
      "outputs": [
        {
          "output_type": "stream",
          "name": "stdout",
          "text": [
            "name: KIra\n",
            "True\n"
          ]
        }
      ]
    }
  ]
}