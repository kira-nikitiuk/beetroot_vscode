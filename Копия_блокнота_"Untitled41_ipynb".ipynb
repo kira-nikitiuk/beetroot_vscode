{
  "nbformat": 4,
  "nbformat_minor": 0,
  "metadata": {
    "colab": {
      "provenance": [],
      "authorship_tag": "ABX9TyPfTjeuA1IcfNhtk6JLC+qm",
      "include_colab_link": true
    },
    "kernelspec": {
      "name": "python3",
      "display_name": "Python 3"
    },
    "language_info": {
      "name": "python"
    }
  },
  "cells": [
    {
      "cell_type": "markdown",
      "metadata": {
        "id": "view-in-github",
        "colab_type": "text"
      },
      "source": [
        "<a href=\"https://colab.research.google.com/github/kira-nikitiuk/beetroot_vscode/blob/main/%D0%9A%D0%BE%D0%BF%D0%B8%D1%8F_%D0%B1%D0%BB%D0%BE%D0%BA%D0%BD%D0%BE%D1%82%D0%B0_%22Untitled41_ipynb%22.ipynb\" target=\"_parent\"><img src=\"https://colab.research.google.com/assets/colab-badge.svg\" alt=\"Open In Colab\"/></a>"
      ]
    },
    {
      "cell_type": "code",
      "execution_count": null,
      "metadata": {
        "colab": {
          "base_uri": "https://localhost:8080/"
        },
        "id": "S96w3Lfplrjk",
        "outputId": "7f547159-70df-43d3-ad58-2fa29248db91"
      },
      "outputs": [
        {
          "output_type": "stream",
          "name": "stdout",
          "text": [
            "hi everyone\n",
            "some text\n",
            "that's all\n",
            "param 1 = something, param 2= list(1, 2, 3, 4, 5, 6, 7)\n",
            "gnihtemos\n",
            "oeh\n",
            "додавання 5 \n",
            "віднімання 1 \n",
            "множення 6 \n",
            "ділення 1.5 \n",
            "цілочисельне ділення 1 \n",
            "піднесення до степеня 9\n"
          ]
        }
      ],
      "source": [
        "# TASK №2\n",
        "#\"hi everyone\"\n",
        "#\"some text\"\n",
        "#\"that's all\"\n",
        "#\"param 1 = something, param 2= list(1, 2, 3, 4, 5, 6, 7)\"\n",
        "#\"gnihtemos\"  рекурсія\n",
        "#\"oeh\" з першого до 7 елемента із кроком 2\n",
        "#\"додавання 5\"\n",
        "#\"віднімання 1\"\n",
        "#\"множення 6\"\n",
        "#\"ділення 1.5\"\n",
        "#\"цілочисельне ділення 1\"\n",
        "#\"піднесення до степеня 9\"\n",
        "\n",
        "x= 2\n",
        "y= 3\n",
        "s= \"something\"\n",
        "e= 1, 2, 3, 4, 5, 6, 7\n",
        "print(\"hi everyone\")\n",
        "print(\"some text\")\n",
        "print(\"that's all\")\n",
        "print(f\"param 1 = {s}, param 2= list{e}\")\n",
        "print(s[::-1])\n",
        "print(s[1:7:2])\n",
        "print(\"додавання\", x+y,\"\\nвіднімання\", y-x, \"\\nмноження\", x*y, \"\\nділення\", y/x, \"\\nцілочисельне ділення\", y%x, \"\\nпіднесення до степеня\", y**x)"
      ]
    },
    {
      "cell_type": "code",
      "source": [
        "# TASK №3 (вариант 1)\n",
        "print(\"#########\", \"\\n#\\t#\", \"\\n#\\t#\",\"\\n#\\t#\", \"\\n#########\")\n",
        "print(\"\\n#\\t#\",\"\\n#\\t#\", \"\\n#########\", \"\\n#\\t#\",\"\\n#\\t#\",)"
      ],
      "metadata": {
        "colab": {
          "base_uri": "https://localhost:8080/"
        },
        "id": "lzNxYE0LuCv6",
        "outputId": "2d2a7f2a-8d37-4db1-cd0c-d6916e989321"
      },
      "execution_count": null,
      "outputs": [
        {
          "output_type": "stream",
          "name": "stdout",
          "text": [
            "######### \n",
            "#\t# \n",
            "#\t# \n",
            "#\t# \n",
            "#########\n",
            "\n",
            "#\t# \n",
            "#\t# \n",
            "######### \n",
            "#\t# \n",
            "#\t#\n"
          ]
        }
      ]
    },
    {
      "cell_type": "code",
      "source": [
        "# TASK №3 (вариант 2)\n",
        "x= \"\\n#########\"\n",
        "y= \"\\n#\\t#\"\n",
        "print(x, y*3, x)\n",
        "print(y*2, x, y*2)"
      ],
      "metadata": {
        "colab": {
          "base_uri": "https://localhost:8080/"
        },
        "id": "BQnlT5tuutaG",
        "outputId": "36acb8cb-486d-4c4e-f9ad-e80adb1ef466"
      },
      "execution_count": null,
      "outputs": [
        {
          "output_type": "stream",
          "name": "stdout",
          "text": [
            "\n",
            "######### \n",
            "#\t#\n",
            "#\t#\n",
            "#\t# \n",
            "#########\n",
            "\n",
            "#\t#\n",
            "#\t# \n",
            "######### \n",
            "#\t#\n",
            "#\t#\n"
          ]
        }
      ]
    }
  ]
}